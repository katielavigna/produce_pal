{
  "nbformat": 4,
  "nbformat_minor": 0,
  "metadata": {
    "colab": {
      "name": "Produce Pal",
      "provenance": [],
      "collapsed_sections": [],
      "authorship_tag": "ABX9TyPG2vbj+fOeebSpa80/rh5F",
      "include_colab_link": true
    },
    "kernelspec": {
      "name": "python3",
      "display_name": "Python 3"
    },
    "language_info": {
      "name": "python"
    }
  },
  "cells": [
    {
      "cell_type": "markdown",
      "metadata": {
        "id": "view-in-github",
        "colab_type": "text"
      },
      "source": [
        "<a href=\"https://colab.research.google.com/github/katielavigna/produce_pal/blob/main/Produce_Pal.ipynb\" target=\"_parent\"><img src=\"https://colab.research.google.com/assets/colab-badge.svg\" alt=\"Open In Colab\"/></a>"
      ]
    },
    {
      "cell_type": "code",
      "metadata": {
        "id": "f5-Qk-pXnVtE"
      },
      "source": [
        "from google.colab import drive\n",
        "drive.mount('/content/drive')"
      ],
      "execution_count": null,
      "outputs": []
    },
    {
      "cell_type": "code",
      "metadata": {
        "id": "bu2JRDV7Bzpq"
      },
      "source": [
        "import os"
      ],
      "execution_count": 24,
      "outputs": []
    },
    {
      "cell_type": "code",
      "metadata": {
        "colab": {
          "base_uri": "https://localhost:8080/"
        },
        "id": "o5P5R0do-78A",
        "outputId": "cfef6865-2192-437b-bef0-80d8971c32f9"
      },
      "source": [
        "import numpy as np\n",
        "import tensorflow as tf\n",
        "print(\"Numpy version: \", np.__version__, \"\\nTensorflow version: \", tf.__version__)"
      ],
      "execution_count": 5,
      "outputs": [
        {
          "output_type": "stream",
          "text": [
            "Numpy version:  1.19.2 \n",
            "Tensorflow version:  2.4.0\n"
          ],
          "name": "stdout"
        }
      ]
    },
    {
      "cell_type": "code",
      "metadata": {
        "id": "-O8oq5nf7Lwf"
      },
      "source": [
        "import tensorflow as tf"
      ],
      "execution_count": 9,
      "outputs": []
    },
    {
      "cell_type": "code",
      "metadata": {
        "id": "enmaY15sAtbd"
      },
      "source": [
        "from tensorflow import keras"
      ],
      "execution_count": 10,
      "outputs": []
    },
    {
      "cell_type": "code",
      "metadata": {
        "id": "H4FjplVDAwHY"
      },
      "source": [
        "from tensorflow.keras import backend, models, layers, optimizers\n",
        "from tensorflow.keras.layers import Dense, Activation\n",
        "from tensorflow.keras.optimizers import Adam\n",
        "from tensorflow.keras.metrics import categorical_crossentropy\n",
        "from tensorflow.keras.preprocessing.image import ImageDataGenerator\n",
        "from tensorflow.keras.preprocessing import image\n",
        "from tensorflow.keras.models import Model\n",
        "from tensorflow.keras.applications import imagenet_utils\n",
        "from tensorflow.keras.layers import Dense,GlobalAveragePooling2D\n",
        "from tensorflow.keras.applications.mobilenet import MobileNet\n",
        "from tensorflow.keras.applications.mobilenet import preprocess_input\n",
        "from tensorflow.keras.callbacks import EarlyStopping"
      ],
      "execution_count": 110,
      "outputs": []
    },
    {
      "cell_type": "code",
      "metadata": {
        "id": "29SjPHwnllVj"
      },
      "source": [
        "# Specify the base directory where images are located.\n",
        "base_dir = '/content/drive/MyDrive/msds_cv/'"
      ],
      "execution_count": 128,
      "outputs": []
    },
    {
      "cell_type": "code",
      "metadata": {
        "id": "XfOT2TZlFEdP"
      },
      "source": [
        "\n",
        "# Specify the traning, validation, and test dirrectories.  \n",
        "train_dir = os.path.join(base_dir, 'train_data')\n",
        "test_dir = os.path.join(base_dir, 'test_data')\n",
        "all_dir = os.path.join(base_dir, 'fruit_and_veg_data')"
      ],
      "execution_count": 129,
      "outputs": []
    },
    {
      "cell_type": "code",
      "metadata": {
        "id": "9gkldJyfmU1m"
      },
      "source": [
        "image_gen = ImageDataGenerator(rescale=1./255, validation_split=0.2)"
      ],
      "execution_count": 93,
      "outputs": []
    },
    {
      "cell_type": "code",
      "metadata": {
        "colab": {
          "base_uri": "https://localhost:8080/"
        },
        "id": "6VPKgXNtFPCp",
        "outputId": "8afc364d-b6a4-4bde-c38e-071742eba245"
      },
      "source": [
        "train_generator = image_gen.flow_from_directory(\n",
        "    all_dir,\n",
        "    target_size=(224,224),\n",
        "    batch_size=32,\n",
        "    classes=class_labels,\n",
        "    class_mode='categorical',\n",
        "    shuffle=True,\n",
        "    subset='training')"
      ],
      "execution_count": 96,
      "outputs": [
        {
          "output_type": "stream",
          "text": [
            "Found 1965 images belonging to 45 classes.\n"
          ],
          "name": "stdout"
        }
      ]
    },
    {
      "cell_type": "code",
      "metadata": {
        "colab": {
          "base_uri": "https://localhost:8080/"
        },
        "id": "1Kq7cSGgFQWq",
        "outputId": "1476e681-89e3-4f88-ecaf-c050614b2231"
      },
      "source": [
        "\n",
        "test_generator = image_gen.flow_from_directory(\n",
        "    all_dir,\n",
        "    target_size=(224,224),\n",
        "    batch_size=32,\n",
        "    classes=class_labels,\n",
        "    class_mode='categorical',\n",
        "    shuffle=True,\n",
        "    subset='validation')"
      ],
      "execution_count": 97,
      "outputs": [
        {
          "output_type": "stream",
          "text": [
            "Found 467 images belonging to 45 classes.\n"
          ],
          "name": "stdout"
        }
      ]
    },
    {
      "cell_type": "markdown",
      "metadata": {
        "id": "Qr2spxSe681F"
      },
      "source": [
        "### Mobile Net"
      ]
    },
    {
      "cell_type": "code",
      "metadata": {
        "id": "CiJFaifw7Bbm"
      },
      "source": [
        "backend.clear_session()\n",
        "base_model=keras.applications.mobilenet.MobileNet(weights='imagenet',\n",
        "                                                  input_shape=(224, 224, 3,),\n",
        "                                                  include_top=False) #imports the mobilenet model and discards the last 1000 neuron layer."
      ],
      "execution_count": 113,
      "outputs": []
    },
    {
      "cell_type": "code",
      "metadata": {
        "id": "x79Rzmva8Xa3"
      },
      "source": [
        "x=base_model.output\n",
        "x=GlobalAveragePooling2D()(x)\n",
        "x=Dense(512, activation = 'relu')(x) #we add dense layers so that the model can learn more complex functions and classify for better results.\n",
        "output=Dense(45,activation='softmax')(x) #final layer with softmax activation"
      ],
      "execution_count": 114,
      "outputs": []
    },
    {
      "cell_type": "code",
      "metadata": {
        "id": "8mo5-dkxBRen"
      },
      "source": [
        "model=Model(inputs=base_model.inputs, outputs=output)"
      ],
      "execution_count": 115,
      "outputs": []
    },
    {
      "cell_type": "code",
      "metadata": {
        "colab": {
          "base_uri": "https://localhost:8080/"
        },
        "id": "BPIHgHiEn7nR",
        "outputId": "996b2495-9f66-4aa8-8fd5-59e8c0ea78a4"
      },
      "source": [
        "model.summary()"
      ],
      "execution_count": 130,
      "outputs": [
        {
          "output_type": "stream",
          "text": [
            "Model: \"model\"\n",
            "_________________________________________________________________\n",
            "Layer (type)                 Output Shape              Param #   \n",
            "=================================================================\n",
            "input_1 (InputLayer)         [(None, 224, 224, 3)]     0         \n",
            "_________________________________________________________________\n",
            "conv1 (Conv2D)               (None, 112, 112, 32)      864       \n",
            "_________________________________________________________________\n",
            "conv1_bn (BatchNormalization (None, 112, 112, 32)      128       \n",
            "_________________________________________________________________\n",
            "conv1_relu (ReLU)            (None, 112, 112, 32)      0         \n",
            "_________________________________________________________________\n",
            "conv_dw_1 (DepthwiseConv2D)  (None, 112, 112, 32)      288       \n",
            "_________________________________________________________________\n",
            "conv_dw_1_bn (BatchNormaliza (None, 112, 112, 32)      128       \n",
            "_________________________________________________________________\n",
            "conv_dw_1_relu (ReLU)        (None, 112, 112, 32)      0         \n",
            "_________________________________________________________________\n",
            "conv_pw_1 (Conv2D)           (None, 112, 112, 64)      2048      \n",
            "_________________________________________________________________\n",
            "conv_pw_1_bn (BatchNormaliza (None, 112, 112, 64)      256       \n",
            "_________________________________________________________________\n",
            "conv_pw_1_relu (ReLU)        (None, 112, 112, 64)      0         \n",
            "_________________________________________________________________\n",
            "conv_pad_2 (ZeroPadding2D)   (None, 113, 113, 64)      0         \n",
            "_________________________________________________________________\n",
            "conv_dw_2 (DepthwiseConv2D)  (None, 56, 56, 64)        576       \n",
            "_________________________________________________________________\n",
            "conv_dw_2_bn (BatchNormaliza (None, 56, 56, 64)        256       \n",
            "_________________________________________________________________\n",
            "conv_dw_2_relu (ReLU)        (None, 56, 56, 64)        0         \n",
            "_________________________________________________________________\n",
            "conv_pw_2 (Conv2D)           (None, 56, 56, 128)       8192      \n",
            "_________________________________________________________________\n",
            "conv_pw_2_bn (BatchNormaliza (None, 56, 56, 128)       512       \n",
            "_________________________________________________________________\n",
            "conv_pw_2_relu (ReLU)        (None, 56, 56, 128)       0         \n",
            "_________________________________________________________________\n",
            "conv_dw_3 (DepthwiseConv2D)  (None, 56, 56, 128)       1152      \n",
            "_________________________________________________________________\n",
            "conv_dw_3_bn (BatchNormaliza (None, 56, 56, 128)       512       \n",
            "_________________________________________________________________\n",
            "conv_dw_3_relu (ReLU)        (None, 56, 56, 128)       0         \n",
            "_________________________________________________________________\n",
            "conv_pw_3 (Conv2D)           (None, 56, 56, 128)       16384     \n",
            "_________________________________________________________________\n",
            "conv_pw_3_bn (BatchNormaliza (None, 56, 56, 128)       512       \n",
            "_________________________________________________________________\n",
            "conv_pw_3_relu (ReLU)        (None, 56, 56, 128)       0         \n",
            "_________________________________________________________________\n",
            "conv_pad_4 (ZeroPadding2D)   (None, 57, 57, 128)       0         \n",
            "_________________________________________________________________\n",
            "conv_dw_4 (DepthwiseConv2D)  (None, 28, 28, 128)       1152      \n",
            "_________________________________________________________________\n",
            "conv_dw_4_bn (BatchNormaliza (None, 28, 28, 128)       512       \n",
            "_________________________________________________________________\n",
            "conv_dw_4_relu (ReLU)        (None, 28, 28, 128)       0         \n",
            "_________________________________________________________________\n",
            "conv_pw_4 (Conv2D)           (None, 28, 28, 256)       32768     \n",
            "_________________________________________________________________\n",
            "conv_pw_4_bn (BatchNormaliza (None, 28, 28, 256)       1024      \n",
            "_________________________________________________________________\n",
            "conv_pw_4_relu (ReLU)        (None, 28, 28, 256)       0         \n",
            "_________________________________________________________________\n",
            "conv_dw_5 (DepthwiseConv2D)  (None, 28, 28, 256)       2304      \n",
            "_________________________________________________________________\n",
            "conv_dw_5_bn (BatchNormaliza (None, 28, 28, 256)       1024      \n",
            "_________________________________________________________________\n",
            "conv_dw_5_relu (ReLU)        (None, 28, 28, 256)       0         \n",
            "_________________________________________________________________\n",
            "conv_pw_5 (Conv2D)           (None, 28, 28, 256)       65536     \n",
            "_________________________________________________________________\n",
            "conv_pw_5_bn (BatchNormaliza (None, 28, 28, 256)       1024      \n",
            "_________________________________________________________________\n",
            "conv_pw_5_relu (ReLU)        (None, 28, 28, 256)       0         \n",
            "_________________________________________________________________\n",
            "conv_pad_6 (ZeroPadding2D)   (None, 29, 29, 256)       0         \n",
            "_________________________________________________________________\n",
            "conv_dw_6 (DepthwiseConv2D)  (None, 14, 14, 256)       2304      \n",
            "_________________________________________________________________\n",
            "conv_dw_6_bn (BatchNormaliza (None, 14, 14, 256)       1024      \n",
            "_________________________________________________________________\n",
            "conv_dw_6_relu (ReLU)        (None, 14, 14, 256)       0         \n",
            "_________________________________________________________________\n",
            "conv_pw_6 (Conv2D)           (None, 14, 14, 512)       131072    \n",
            "_________________________________________________________________\n",
            "conv_pw_6_bn (BatchNormaliza (None, 14, 14, 512)       2048      \n",
            "_________________________________________________________________\n",
            "conv_pw_6_relu (ReLU)        (None, 14, 14, 512)       0         \n",
            "_________________________________________________________________\n",
            "conv_dw_7 (DepthwiseConv2D)  (None, 14, 14, 512)       4608      \n",
            "_________________________________________________________________\n",
            "conv_dw_7_bn (BatchNormaliza (None, 14, 14, 512)       2048      \n",
            "_________________________________________________________________\n",
            "conv_dw_7_relu (ReLU)        (None, 14, 14, 512)       0         \n",
            "_________________________________________________________________\n",
            "conv_pw_7 (Conv2D)           (None, 14, 14, 512)       262144    \n",
            "_________________________________________________________________\n",
            "conv_pw_7_bn (BatchNormaliza (None, 14, 14, 512)       2048      \n",
            "_________________________________________________________________\n",
            "conv_pw_7_relu (ReLU)        (None, 14, 14, 512)       0         \n",
            "_________________________________________________________________\n",
            "conv_dw_8 (DepthwiseConv2D)  (None, 14, 14, 512)       4608      \n",
            "_________________________________________________________________\n",
            "conv_dw_8_bn (BatchNormaliza (None, 14, 14, 512)       2048      \n",
            "_________________________________________________________________\n",
            "conv_dw_8_relu (ReLU)        (None, 14, 14, 512)       0         \n",
            "_________________________________________________________________\n",
            "conv_pw_8 (Conv2D)           (None, 14, 14, 512)       262144    \n",
            "_________________________________________________________________\n",
            "conv_pw_8_bn (BatchNormaliza (None, 14, 14, 512)       2048      \n",
            "_________________________________________________________________\n",
            "conv_pw_8_relu (ReLU)        (None, 14, 14, 512)       0         \n",
            "_________________________________________________________________\n",
            "conv_dw_9 (DepthwiseConv2D)  (None, 14, 14, 512)       4608      \n",
            "_________________________________________________________________\n",
            "conv_dw_9_bn (BatchNormaliza (None, 14, 14, 512)       2048      \n",
            "_________________________________________________________________\n",
            "conv_dw_9_relu (ReLU)        (None, 14, 14, 512)       0         \n",
            "_________________________________________________________________\n",
            "conv_pw_9 (Conv2D)           (None, 14, 14, 512)       262144    \n",
            "_________________________________________________________________\n",
            "conv_pw_9_bn (BatchNormaliza (None, 14, 14, 512)       2048      \n",
            "_________________________________________________________________\n",
            "conv_pw_9_relu (ReLU)        (None, 14, 14, 512)       0         \n",
            "_________________________________________________________________\n",
            "conv_dw_10 (DepthwiseConv2D) (None, 14, 14, 512)       4608      \n",
            "_________________________________________________________________\n",
            "conv_dw_10_bn (BatchNormaliz (None, 14, 14, 512)       2048      \n",
            "_________________________________________________________________\n",
            "conv_dw_10_relu (ReLU)       (None, 14, 14, 512)       0         \n",
            "_________________________________________________________________\n",
            "conv_pw_10 (Conv2D)          (None, 14, 14, 512)       262144    \n",
            "_________________________________________________________________\n",
            "conv_pw_10_bn (BatchNormaliz (None, 14, 14, 512)       2048      \n",
            "_________________________________________________________________\n",
            "conv_pw_10_relu (ReLU)       (None, 14, 14, 512)       0         \n",
            "_________________________________________________________________\n",
            "conv_dw_11 (DepthwiseConv2D) (None, 14, 14, 512)       4608      \n",
            "_________________________________________________________________\n",
            "conv_dw_11_bn (BatchNormaliz (None, 14, 14, 512)       2048      \n",
            "_________________________________________________________________\n",
            "conv_dw_11_relu (ReLU)       (None, 14, 14, 512)       0         \n",
            "_________________________________________________________________\n",
            "conv_pw_11 (Conv2D)          (None, 14, 14, 512)       262144    \n",
            "_________________________________________________________________\n",
            "conv_pw_11_bn (BatchNormaliz (None, 14, 14, 512)       2048      \n",
            "_________________________________________________________________\n",
            "conv_pw_11_relu (ReLU)       (None, 14, 14, 512)       0         \n",
            "_________________________________________________________________\n",
            "conv_pad_12 (ZeroPadding2D)  (None, 15, 15, 512)       0         \n",
            "_________________________________________________________________\n",
            "conv_dw_12 (DepthwiseConv2D) (None, 7, 7, 512)         4608      \n",
            "_________________________________________________________________\n",
            "conv_dw_12_bn (BatchNormaliz (None, 7, 7, 512)         2048      \n",
            "_________________________________________________________________\n",
            "conv_dw_12_relu (ReLU)       (None, 7, 7, 512)         0         \n",
            "_________________________________________________________________\n",
            "conv_pw_12 (Conv2D)          (None, 7, 7, 1024)        524288    \n",
            "_________________________________________________________________\n",
            "conv_pw_12_bn (BatchNormaliz (None, 7, 7, 1024)        4096      \n",
            "_________________________________________________________________\n",
            "conv_pw_12_relu (ReLU)       (None, 7, 7, 1024)        0         \n",
            "_________________________________________________________________\n",
            "conv_dw_13 (DepthwiseConv2D) (None, 7, 7, 1024)        9216      \n",
            "_________________________________________________________________\n",
            "conv_dw_13_bn (BatchNormaliz (None, 7, 7, 1024)        4096      \n",
            "_________________________________________________________________\n",
            "conv_dw_13_relu (ReLU)       (None, 7, 7, 1024)        0         \n",
            "_________________________________________________________________\n",
            "conv_pw_13 (Conv2D)          (None, 7, 7, 1024)        1048576   \n",
            "_________________________________________________________________\n",
            "conv_pw_13_bn (BatchNormaliz (None, 7, 7, 1024)        4096      \n",
            "_________________________________________________________________\n",
            "conv_pw_13_relu (ReLU)       (None, 7, 7, 1024)        0         \n",
            "_________________________________________________________________\n",
            "global_average_pooling2d (Gl (None, 1024)              0         \n",
            "_________________________________________________________________\n",
            "dense (Dense)                (None, 512)               524800    \n",
            "_________________________________________________________________\n",
            "dense_1 (Dense)              (None, 45)                23085     \n",
            "=================================================================\n",
            "Total params: 3,776,749\n",
            "Trainable params: 3,754,861\n",
            "Non-trainable params: 21,888\n",
            "_________________________________________________________________\n"
          ],
          "name": "stdout"
        }
      ]
    },
    {
      "cell_type": "code",
      "metadata": {
        "id": "yoNetwc6I7-N"
      },
      "source": [
        "# Compile the model with categorical crossentropy for the loss function and SGD for the optimizer with the learning\n",
        "# rate at 1e-4 and momentum at 0.9\n",
        "model.compile(loss='categorical_crossentropy',\n",
        "              optimizer=optimizers.SGD(learning_rate=0.0001, momentum=0.9),\n",
        "              # optimizer=\"adam\",\n",
        "              metrics=['accuracy'])"
      ],
      "execution_count": 116,
      "outputs": []
    },
    {
      "cell_type": "code",
      "metadata": {
        "colab": {
          "base_uri": "https://localhost:8080/"
        },
        "id": "jdsn9hocoulv",
        "outputId": "c49351fa-a51c-4d54-8af4-0e581b6ac81a"
      },
      "source": [
        "history2 = model.fit_generator(\n",
        "    train_generator,\n",
        "    epochs=25,\n",
        "    validation_data=test_generator,\n",
        "    verbose = 1,\n",
        "    callbacks=[EarlyStopping(monitor='val_accuracy', patience = 5, restore_best_weights = True)])"
      ],
      "execution_count": 117,
      "outputs": [
        {
          "output_type": "stream",
          "text": [
            "/usr/local/lib/python3.7/dist-packages/tensorflow/python/keras/engine/training.py:1844: UserWarning: `Model.fit_generator` is deprecated and will be removed in a future version. Please use `Model.fit`, which supports generators.\n",
            "  warnings.warn('`Model.fit_generator` is deprecated and '\n"
          ],
          "name": "stderr"
        },
        {
          "output_type": "stream",
          "text": [
            "Epoch 1/25\n",
            "33/62 [==============>...............] - ETA: 15s - loss: 4.3854 - accuracy: 0.0121"
          ],
          "name": "stdout"
        },
        {
          "output_type": "stream",
          "text": [
            "/usr/local/lib/python3.7/dist-packages/PIL/TiffImagePlugin.py:788: UserWarning: Corrupt EXIF data.  Expecting to read 4 bytes but only got 0. \n",
            "  warnings.warn(str(msg))\n"
          ],
          "name": "stderr"
        },
        {
          "output_type": "stream",
          "text": [
            "54/62 [=========================>....] - ETA: 4s - loss: 4.2935 - accuracy: 0.0202"
          ],
          "name": "stdout"
        },
        {
          "output_type": "stream",
          "text": [
            "/usr/local/lib/python3.7/dist-packages/PIL/Image.py:960: UserWarning: Palette images with Transparency expressed in bytes should be converted to RGBA images\n",
            "  \"Palette images with Transparency expressed in bytes should be \"\n"
          ],
          "name": "stderr"
        },
        {
          "output_type": "stream",
          "text": [
            "62/62 [==============================] - 42s 654ms/step - loss: 4.2589 - accuracy: 0.0241 - val_loss: 3.6151 - val_accuracy: 0.1349\n",
            "Epoch 2/25\n",
            "62/62 [==============================] - 40s 641ms/step - loss: 3.3351 - accuracy: 0.1940 - val_loss: 3.1644 - val_accuracy: 0.2270\n",
            "Epoch 3/25\n",
            "62/62 [==============================] - 40s 643ms/step - loss: 2.9836 - accuracy: 0.2529 - val_loss: 2.8761 - val_accuracy: 0.2527\n",
            "Epoch 4/25\n",
            "62/62 [==============================] - 40s 643ms/step - loss: 2.6890 - accuracy: 0.3196 - val_loss: 2.6527 - val_accuracy: 0.3084\n",
            "Epoch 5/25\n",
            "62/62 [==============================] - 40s 640ms/step - loss: 2.4817 - accuracy: 0.3687 - val_loss: 2.4695 - val_accuracy: 0.3640\n",
            "Epoch 6/25\n",
            "62/62 [==============================] - 40s 645ms/step - loss: 2.2536 - accuracy: 0.4228 - val_loss: 2.3112 - val_accuracy: 0.4325\n",
            "Epoch 7/25\n",
            "62/62 [==============================] - 40s 640ms/step - loss: 2.1046 - accuracy: 0.4858 - val_loss: 2.1704 - val_accuracy: 0.4732\n",
            "Epoch 8/25\n",
            "62/62 [==============================] - 40s 646ms/step - loss: 1.9308 - accuracy: 0.5270 - val_loss: 2.0467 - val_accuracy: 0.5011\n",
            "Epoch 9/25\n",
            "62/62 [==============================] - 40s 643ms/step - loss: 1.7408 - accuracy: 0.5910 - val_loss: 1.9357 - val_accuracy: 0.5396\n",
            "Epoch 10/25\n",
            "62/62 [==============================] - 40s 650ms/step - loss: 1.6088 - accuracy: 0.6588 - val_loss: 1.8352 - val_accuracy: 0.5610\n",
            "Epoch 11/25\n",
            "62/62 [==============================] - 40s 650ms/step - loss: 1.5406 - accuracy: 0.6610 - val_loss: 1.7483 - val_accuracy: 0.5846\n",
            "Epoch 12/25\n",
            "62/62 [==============================] - 40s 644ms/step - loss: 1.3461 - accuracy: 0.7321 - val_loss: 1.6649 - val_accuracy: 0.5931\n",
            "Epoch 13/25\n",
            "62/62 [==============================] - 40s 650ms/step - loss: 1.2981 - accuracy: 0.7515 - val_loss: 1.5925 - val_accuracy: 0.6167\n",
            "Epoch 14/25\n",
            "62/62 [==============================] - 40s 649ms/step - loss: 1.1858 - accuracy: 0.7566 - val_loss: 1.5264 - val_accuracy: 0.6338\n",
            "Epoch 15/25\n",
            "62/62 [==============================] - 40s 648ms/step - loss: 1.1110 - accuracy: 0.7969 - val_loss: 1.4636 - val_accuracy: 0.6595\n",
            "Epoch 16/25\n",
            "62/62 [==============================] - 40s 651ms/step - loss: 1.0466 - accuracy: 0.8066 - val_loss: 1.4091 - val_accuracy: 0.6617\n",
            "Epoch 17/25\n",
            "62/62 [==============================] - 40s 647ms/step - loss: 0.9551 - accuracy: 0.8313 - val_loss: 1.3603 - val_accuracy: 0.6745\n",
            "Epoch 18/25\n",
            "62/62 [==============================] - 40s 647ms/step - loss: 0.9315 - accuracy: 0.8242 - val_loss: 1.3179 - val_accuracy: 0.6788\n",
            "Epoch 19/25\n",
            "62/62 [==============================] - 40s 646ms/step - loss: 0.8570 - accuracy: 0.8493 - val_loss: 1.2774 - val_accuracy: 0.6895\n",
            "Epoch 20/25\n",
            "62/62 [==============================] - 40s 650ms/step - loss: 0.8335 - accuracy: 0.8481 - val_loss: 1.2378 - val_accuracy: 0.6981\n",
            "Epoch 21/25\n",
            "62/62 [==============================] - 40s 650ms/step - loss: 0.7407 - accuracy: 0.8801 - val_loss: 1.2075 - val_accuracy: 0.7002\n",
            "Epoch 22/25\n",
            "62/62 [==============================] - 40s 645ms/step - loss: 0.7111 - accuracy: 0.8909 - val_loss: 1.1779 - val_accuracy: 0.7024\n",
            "Epoch 23/25\n",
            "62/62 [==============================] - 40s 647ms/step - loss: 0.6753 - accuracy: 0.8907 - val_loss: 1.1521 - val_accuracy: 0.7024\n",
            "Epoch 24/25\n",
            "62/62 [==============================] - 40s 641ms/step - loss: 0.6415 - accuracy: 0.8853 - val_loss: 1.1265 - val_accuracy: 0.7045\n",
            "Epoch 25/25\n",
            "62/62 [==============================] - 40s 646ms/step - loss: 0.6053 - accuracy: 0.9150 - val_loss: 1.1029 - val_accuracy: 0.7131\n"
          ],
          "name": "stdout"
        }
      ]
    },
    {
      "cell_type": "code",
      "metadata": {
        "id": "34Ha-LrAPllp"
      },
      "source": [
        "model.save(base_dir + 'mobilenet_m3.h5')"
      ],
      "execution_count": 118,
      "outputs": []
    },
    {
      "cell_type": "code",
      "metadata": {
        "colab": {
          "base_uri": "https://localhost:8080/",
          "height": 678
        },
        "id": "WkE7xMXYfPhM",
        "outputId": "6f158ab5-3aba-4123-dbff-245ff5ba4d68"
      },
      "source": [
        "# Create a dictionary of the model history \n",
        "import matplotlib.pyplot as plt\n",
        "history_dict = history2.history\n",
        "loss_values = history_dict['loss']\n",
        "val_loss_values = history_dict['val_loss']\n",
        "acc_values = history_dict['accuracy']\n",
        "val_acc_values = history_dict['val_accuracy']\n",
        "epochs = range(1, len(history_dict['accuracy']) + 1)\n",
        "\n",
        "# Plot the training/validation loss\n",
        "plt.plot(epochs, loss_values, 'bo', label = 'Training loss')\n",
        "plt.plot(epochs, val_loss_values, 'b', label = 'Validation loss')\n",
        "plt.title('Training and validation loss')\n",
        "plt.xlabel('Epochs')\n",
        "plt.ylabel('Loss')\n",
        "plt.legend()\n",
        "plt.show()\n",
        "\n",
        "# Plot the training/validation accuracy\n",
        "plt.plot(epochs, acc_values, 'bo', label = 'Training accuracy')\n",
        "plt.plot(epochs, val_acc_values, 'b', label = 'Validation accuracy')\n",
        "plt.title('Training and validation accuracy')\n",
        "plt.xlabel('Epochs')\n",
        "plt.ylabel('Accuracy')\n",
        "plt.legend()\n",
        "plt.show()\n",
        "\n",
        "\n",
        "# Evaluate the test accuracy and test loss of the model\n",
        "test_loss, test_acc = model.evaluate_generator(test_generator)\n",
        "\n",
        "print('Model testing accuracy/testing loss:', test_acc, \" \", test_loss)\n"
      ],
      "execution_count": 126,
      "outputs": [
        {
          "output_type": "display_data",
          "data": {
            "image/png": "[encoded data removed]",
            "text/plain": [
              "<Figure size 432x288 with 1 Axes>"
            ]
          },
          "metadata": {
            "tags": [],
            "needs_background": "light"
          }
        },
        {
          "output_type": "display_data",
          "data": {
            "image/png": "[encoded data removed]",
            "text/plain": [
              "<Figure size 432x288 with 1 Axes>"
            ]
          },
          "metadata": {
            "tags": [],
            "needs_background": "light"
          }
        },
        {
          "output_type": "stream",
          "text": [
            "/usr/local/lib/python3.7/dist-packages/tensorflow/python/keras/engine/training.py:1877: UserWarning: `Model.evaluate_generator` is deprecated and will be removed in a future version. Please use `Model.evaluate`, which supports generators.\n",
            "  warnings.warn('`Model.evaluate_generator` is deprecated and '\n",
            "/usr/local/lib/python3.7/dist-packages/PIL/Image.py:960: UserWarning: Palette images with Transparency expressed in bytes should be converted to RGBA images\n",
            "  \"Palette images with Transparency expressed in bytes should be \"\n"
          ],
          "name": "stderr"
        },
        {
          "output_type": "stream",
          "text": [
            "Model testing accuracy/testing loss: 0.7130621075630188   1.102927565574646\n"
          ],
          "name": "stdout"
        }
      ]
    },
    {
      "cell_type": "code",
      "metadata": {
        "id": "fxQ2Sd43wRac"
      },
      "source": [
        "class_labels = ['banana',\n",
        " 'carrot',\n",
        " 'ginger',\n",
        " 'orange',\n",
        " 'pineapple',\n",
        " 'soy beans',\n",
        " 'garlic',\n",
        " 'artichoke',\n",
        " 'peach',\n",
        " 'tomato',\n",
        " 'beetroot',\n",
        " 'grapes',\n",
        " 'corn',\n",
        " 'cabbage',\n",
        " 'broccoli',\n",
        " 'eggplant',\n",
        " 'mango',\n",
        " 'rutabaga',\n",
        " 'watermelon',\n",
        " 'blueberries',\n",
        " 'jalepeno',\n",
        " 'paprika',\n",
        " 'cauliflower',\n",
        " 'cucumber',\n",
        " 'shishito pepper',\n",
        " 'donut peach',\n",
        " 'potato',\n",
        " 'sweetcorn',\n",
        " 'plum',\n",
        " 'onion',\n",
        " 'peas',\n",
        " 'pomegranate',\n",
        " 'spinach',\n",
        " 'kiwi',\n",
        " 'lemon',\n",
        " 'sweetpotato',\n",
        " 'bell pepper',\n",
        " 'capsicum',\n",
        " 'lettuce',\n",
        " 'pear',\n",
        " 'apple',\n",
        " 'turnip',\n",
        " 'raddish',\n",
        " 'chilli pepper',\n",
        " 'pummelo']"
      ],
      "execution_count": 66,
      "outputs": []
    },
    {
      "cell_type": "code",
      "metadata": {
        "colab": {
          "base_uri": "https://localhost:8080/"
        },
        "id": "PXsBshUEdV5E",
        "outputId": "3ab897a4-6d0a-4784-cbde-2af9b7704274"
      },
      "source": [
        "from tensorflow.keras.models import load_model\n",
        "import coremltools"
      ],
      "execution_count": 48,
      "outputs": [
        {
          "output_type": "stream",
          "text": [
            "WARNING:root:scikit-learn version 0.22.2.post1 is not supported. Minimum required version: 0.17. Maximum required version: 0.19.2. Disabling scikit-learn conversion API.\n",
            "WARNING:root:TensorFlow version 2.4.0 detected. Last version known to be fully compatible is 2.3.1 .\n"
          ],
          "name": "stderr"
        }
      ]
    },
    {
      "cell_type": "code",
      "metadata": {
        "id": "RUibUa64iKpt"
      },
      "source": [
        "model = load_model(base_dir + 'mobilenet_m3.h5')"
      ],
      "execution_count": 119,
      "outputs": []
    },
    {
      "cell_type": "code",
      "metadata": {
        "id": "IG8i7vIVf0u3"
      },
      "source": [
        "# make sure entries of class_labels are strings\n",
        "for i, label in enumerate(class_labels):\n",
        "  if isinstance(label, bytes):\n",
        "    class_labels[i] = label.decode(\"utf8\")"
      ],
      "execution_count": 120,
      "outputs": []
    },
    {
      "cell_type": "code",
      "metadata": {
        "id": "65riMoy7f54k"
      },
      "source": [
        "image_input = coremltools.ImageType(shape=(1, 224, 224, 3,),\n",
        "                                    bias=[-1,-1,-1],\n",
        "                                    scale=1./255)"
      ],
      "execution_count": 121,
      "outputs": []
    },
    {
      "cell_type": "code",
      "metadata": {
        "id": "_NLW0Di4gmHT"
      },
      "source": [
        "classifier_config = coremltools.ClassifierConfig(class_labels)"
      ],
      "execution_count": 122,
      "outputs": []
    },
    {
      "cell_type": "code",
      "metadata": {
        "colab": {
          "base_uri": "https://localhost:8080/"
        },
        "id": "QPBhq0K_q12A",
        "outputId": "7a97e9ef-7544-4688-f205-58f4df188f8f"
      },
      "source": [
        "coreml_model = coremltools.convert(model,\n",
        "                                   inputs=[image_input],\n",
        "                                   classifier_config=classifier_config,\n",
        "                                   input_names='image',\n",
        "                                   output_names='output',\n",
        "                                   image_input_names='image'\n",
        "                                   )"
      ],
      "execution_count": 123,
      "outputs": [
        {
          "output_type": "stream",
          "text": [
            "Running TensorFlow Graph Passes: 100%|██████████| 5/5 [00:00<00:00,  9.76 passes/s]\n",
            "Converting Frontend ==> MIL Ops: 100%|██████████| 238/238 [00:00<00:00, 767.90 ops/s]\n",
            "Running MIL optimization passes: 100%|██████████| 18/18 [00:00<00:00, 52.52 passes/s]\n",
            "Translating MIL ==> MLModel Ops: 100%|██████████| 408/408 [00:00<00:00, 873.37 ops/s] \n"
          ],
          "name": "stderr"
        }
      ]
    },
    {
      "cell_type": "code",
      "metadata": {
        "id": "l8Mmct1ohdeM"
      },
      "source": [
        "# Set feature descriptions (these show up as comments in XCode)\n",
        "coreml_model.input_description[\"input_1\"] = \"Input image to be classified\"\n",
        "coreml_model.output_description[\"classLabel\"] = \"Most likely image category\"\n",
        "\n",
        "# Set model author name\n",
        "coreml_model.author = 'Kathryn LaVigna'\n",
        "\n",
        "# Set the license of the model\n",
        "coreml_model.license = \"Please see https://github.com/tensorflow/tensorflow for license information, and https://github.com/tensorflow/models/tree/master/research/slim/nets/mobilenet for the original source of the model.\"\n",
        "\n",
        "# Set a short description for the Xcode UI\n",
        "coreml_model.short_description = \"Detects the dominant objects present in an image from a set of 45 categories of fruits and vegetables.\"\n",
        "\n",
        "# Set a version for the model\n",
        "coreml_model.version = \"2.0\""
      ],
      "execution_count": 124,
      "outputs": []
    },
    {
      "cell_type": "code",
      "metadata": {
        "id": "zrQfSAUcR0GK"
      },
      "source": [
        "coreml_model.save(base_dir + 'producepal_mobilenet_m3.mlmodel')"
      ],
      "execution_count": 125,
      "outputs": []
    }
  ]
}