{
  "nbformat": 4,
  "nbformat_minor": 0,
  "metadata": {
    "kernelspec": {
      "display_name": "Python 3",
      "language": "python",
      "name": "python3"
    },
    "language_info": {
      "codemirror_mode": {
        "name": "ipython",
        "version": 3
      },
      "file_extension": ".py",
      "mimetype": "text/x-python",
      "name": "python",
      "nbconvert_exporter": "python",
      "pygments_lexer": "ipython3",
      "version": "3.8.3"
    },
    "colab": {
      "name": "create_train_test.ipynb",
      "provenance": [],
      "toc_visible": true,
      "include_colab_link": true
    }
  },
  "cells": [
    {
      "cell_type": "markdown",
      "metadata": {
        "id": "view-in-github",
        "colab_type": "text"
      },
      "source": [
        "<a href=\"https://colab.research.google.com/github/katielavigna/produce_pal/blob/main/create_train_test.ipynb\" target=\"_parent\"><img src=\"https://colab.research.google.com/assets/colab-badge.svg\" alt=\"Open In Colab\"/></a>"
      ]
    },
    {
      "cell_type": "code",
      "metadata": {
        "colab": {
          "base_uri": "https://localhost:8080/"
        },
        "id": "NA2LoJbmBTuL",
        "outputId": "0c5a0834-3e07-4983-f742-19498b2050dd"
      },
      "source": [
        "from google.colab import drive\n",
        "drive.mount('/content/drive')"
      ],
      "execution_count": null,
      "outputs": [
        {
          "output_type": "stream",
          "text": [
            "Mounted at /content/drive\n"
          ],
          "name": "stdout"
        }
      ]
    },
    {
      "cell_type": "code",
      "metadata": {
        "id": "TSoox_IEBFas"
      },
      "source": [
        "import os\n",
        "from random import shuffle\n",
        "from math import floor\n",
        "import shutil"
      ],
      "execution_count": null,
      "outputs": []
    },
    {
      "cell_type": "code",
      "metadata": {
        "id": "JCpVFRXYBFau"
      },
      "source": [
        "def get_file_list_from_dir(datadir):\n",
        "    all_files = os.listdir(os.path.abspath(datadir))\n",
        "    data_files = list(filter(lambda file: file.endswith('.jpg'), all_files))\n",
        "    return data_files"
      ],
      "execution_count": null,
      "outputs": []
    },
    {
      "cell_type": "code",
      "metadata": {
        "id": "FOYXJ8tfBFav"
      },
      "source": [
        "def randomize_files(file_list):\n",
        "    shuffle(file_list)"
      ],
      "execution_count": null,
      "outputs": []
    },
    {
      "cell_type": "code",
      "metadata": {
        "id": "n0s0VxUKBFav"
      },
      "source": [
        "def get_training_and_testing_sets(file_list):\n",
        "    split = 0.7\n",
        "    split_index = floor(len(file_list) * split)\n",
        "    training = file_list[:split_index]\n",
        "    testing = file_list[split_index:]\n",
        "    return training, testing"
      ],
      "execution_count": null,
      "outputs": []
    },
    {
      "cell_type": "code",
      "metadata": {
        "id": "ELgGGj-3BFaw"
      },
      "source": [
        "home_path = '/content/drive/MyDrive/msds_cv/fruit_and_veg_data/'\n",
        "train_path = '/content/drive/MyDrive/msds_cv/train_data/'\n",
        "test_path = '/content/drive/MyDrive/msds_cv/test_data/'"
      ],
      "execution_count": null,
      "outputs": []
    },
    {
      "cell_type": "code",
      "metadata": {
        "collapsed": true,
        "jupyter": {
          "outputs_hidden": true
        },
        "colab": {
          "base_uri": "https://localhost:8080/"
        },
        "id": "wwqfrWE0BFaw",
        "outputId": "f6e4296e-66d4-44d9-d074-71181ef6a461"
      },
      "source": [
        "foods_list = os.listdir(home_path)\n",
        "foods_list"
      ],
      "execution_count": null,
      "outputs": [
        {
          "output_type": "execute_result",
          "data": {
            "text/plain": [
              "['.DS_Store',\n",
              " 'banana',\n",
              " 'carrot',\n",
              " 'ginger',\n",
              " 'orange',\n",
              " 'pineapple',\n",
              " 'soy beans',\n",
              " 'garlic',\n",
              " 'artichoke',\n",
              " 'peach',\n",
              " 'tomato',\n",
              " 'beetroot',\n",
              " 'grapes',\n",
              " 'corn',\n",
              " 'cabbage',\n",
              " 'broccoli',\n",
              " 'eggplant',\n",
              " 'mango',\n",
              " 'rutabaga',\n",
              " 'watermelon',\n",
              " 'blueberries',\n",
              " 'jalepeno',\n",
              " 'paprika',\n",
              " 'cauliflower',\n",
              " 'cucumber',\n",
              " 'shishito pepper',\n",
              " 'donut peach',\n",
              " 'potato',\n",
              " 'sweetcorn',\n",
              " 'plum',\n",
              " 'onion',\n",
              " 'peas',\n",
              " 'pomegranate',\n",
              " 'spinach',\n",
              " 'kiwi',\n",
              " 'lemon',\n",
              " 'sweetpotato',\n",
              " 'bell pepper',\n",
              " 'capsicum',\n",
              " 'lettuce',\n",
              " 'pear',\n",
              " 'apple',\n",
              " 'turnip',\n",
              " 'raddish',\n",
              " 'chilli pepper',\n",
              " 'pummelo']"
            ]
          },
          "metadata": {
            "tags": []
          },
          "execution_count": 8
        }
      ]
    },
    {
      "cell_type": "code",
      "metadata": {
        "colab": {
          "base_uri": "https://localhost:8080/"
        },
        "id": "ZrzYen4KClrF",
        "outputId": "e82e2eb6-a0ab-4781-dc8a-b58d4f4a16c0"
      },
      "source": [
        "def check_pres(sub, test_str):\n",
        "    for ele in sub:\n",
        "        if ele in test_str:\n",
        "            return 0\n",
        "    return 1\n",
        "\n",
        "# initializing string \n",
        "test_str = '.'\n",
        "# Remove List elements containing String character\n",
        "# Using list comprehension\n",
        "foods_list = [ele for ele in foods_list if check_pres(ele, test_str)]\n",
        "foods_list"
      ],
      "execution_count": null,
      "outputs": [
        {
          "output_type": "execute_result",
          "data": {
            "text/plain": [
              "['banana',\n",
              " 'carrot',\n",
              " 'ginger',\n",
              " 'orange',\n",
              " 'pineapple',\n",
              " 'soy beans',\n",
              " 'garlic',\n",
              " 'artichoke',\n",
              " 'peach',\n",
              " 'tomato',\n",
              " 'beetroot',\n",
              " 'grapes',\n",
              " 'corn',\n",
              " 'cabbage',\n",
              " 'broccoli',\n",
              " 'eggplant',\n",
              " 'mango',\n",
              " 'rutabaga',\n",
              " 'watermelon',\n",
              " 'blueberries',\n",
              " 'jalepeno',\n",
              " 'paprika',\n",
              " 'cauliflower',\n",
              " 'cucumber',\n",
              " 'shishito pepper',\n",
              " 'donut peach',\n",
              " 'potato',\n",
              " 'sweetcorn',\n",
              " 'plum',\n",
              " 'onion',\n",
              " 'peas',\n",
              " 'pomegranate',\n",
              " 'spinach',\n",
              " 'kiwi',\n",
              " 'lemon',\n",
              " 'sweetpotato',\n",
              " 'bell pepper',\n",
              " 'capsicum',\n",
              " 'lettuce',\n",
              " 'pear',\n",
              " 'apple',\n",
              " 'turnip',\n",
              " 'raddish',\n",
              " 'chilli pepper',\n",
              " 'pummelo']"
            ]
          },
          "metadata": {
            "tags": []
          },
          "execution_count": 15
        }
      ]
    },
    {
      "cell_type": "markdown",
      "metadata": {
        "id": "kZu2bwyDBFay"
      },
      "source": [
        "## rename files to Create ML"
      ]
    },
    {
      "cell_type": "code",
      "metadata": {
        "id": "l8yDJxMCBFaz"
      },
      "source": [
        "# Function to rename multiple files\n",
        "def main():\n",
        "      for food in foods_list:\n",
        "            if not food.startswith('.'):\n",
        "                for count, filename in enumerate(os.listdir(home_path + food + '/')):\n",
        "                    if not filename.startswith('.'):\n",
        "                        dst = food + str(count) + \".jpg\"\n",
        "                        src = home_path + food + '/' + filename\n",
        "                        dst = home_path + food + '/' + dst\n",
        "\n",
        "                        # rename() function will\n",
        "                        # rename all the files\n",
        "                        os.rename(src, dst)"
      ],
      "execution_count": null,
      "outputs": []
    },
    {
      "cell_type": "code",
      "metadata": {
        "id": "IGRMZHb4BFaz"
      },
      "source": [
        "if __name__ == '__main__':\n",
        "      \n",
        "    # Calling main() function\n",
        "    main()"
      ],
      "execution_count": null,
      "outputs": []
    },
    {
      "cell_type": "markdown",
      "metadata": {
        "id": "ilXaFYa-BFa0"
      },
      "source": [
        "## split into train and test 70/30"
      ]
    },
    {
      "cell_type": "code",
      "metadata": {
        "id": "ZA79rwrCBFa0"
      },
      "source": [
        "for f in foods_list:\n",
        "    os.mkdir(train_path + f)"
      ],
      "execution_count": null,
      "outputs": []
    },
    {
      "cell_type": "code",
      "metadata": {
        "id": "gAHeNXX2BFa1"
      },
      "source": [
        "for f in foods_list:\n",
        "    os.mkdir(test_path + f)"
      ],
      "execution_count": null,
      "outputs": []
    },
    {
      "cell_type": "code",
      "metadata": {
        "colab": {
          "base_uri": "https://localhost:8080/"
        },
        "id": "oA-tvJOuBFa1",
        "outputId": "6b3529da-8321-46af-c71f-13f1fd8764e1"
      },
      "source": [
        "for food in foods_list:\n",
        "    print(food)\n",
        "    try:\n",
        "        file_list = get_file_list_from_dir(home_path + food)\n",
        "        randomize_files(file_list)\n",
        "        train_files, test_files = get_training_and_testing_sets(file_list)\n",
        "        for file in train_files:\n",
        "            shutil.copy(home_path + food + '/' + file, train_path + food + '/' + file)\n",
        "        for file in test_files:\n",
        "            shutil.copy(home_path + food + '/' + file, test_path + food + '/' + file)\n",
        "    except:\n",
        "        pass"
      ],
      "execution_count": null,
      "outputs": [
        {
          "output_type": "stream",
          "text": [
            "banana\n",
            "carrot\n",
            "ginger\n",
            "orange\n",
            "pineapple\n",
            "soy beans\n",
            "garlic\n",
            "artichoke\n",
            "peach\n",
            "tomato\n",
            "beetroot\n",
            "grapes\n",
            "corn\n",
            "cabbage\n",
            "broccoli\n",
            "eggplant\n",
            "mango\n",
            "rutabaga\n",
            "watermelon\n",
            "blueberries\n",
            "jalepeno\n",
            "paprika\n",
            "cauliflower\n",
            "cucumber\n",
            "shishito pepper\n",
            "donut peach\n",
            "potato\n",
            "sweetcorn\n",
            "plum\n",
            "onion\n",
            "peas\n",
            "pomegranate\n",
            "spinach\n",
            "kiwi\n",
            "lemon\n",
            "sweetpotato\n",
            "bell pepper\n",
            "capsicum\n",
            "lettuce\n",
            "pear\n",
            "apple\n",
            "turnip\n",
            "raddish\n",
            "chilli pepper\n",
            "pummelo\n"
          ],
          "name": "stdout"
        }
      ]
    },
    {
      "cell_type": "code",
      "metadata": {
        "colab": {
          "base_uri": "https://localhost:8080/"
        },
        "id": "oni0BJbXBFa1",
        "outputId": "d642f17c-c0df-4887-aadd-36d23301050a"
      },
      "source": [
        "os.listdir(train_path)"
      ],
      "execution_count": null,
      "outputs": [
        {
          "output_type": "execute_result",
          "data": {
            "text/plain": [
              "['banana',\n",
              " 'carrot',\n",
              " 'ginger',\n",
              " 'orange',\n",
              " 'pineapple',\n",
              " 'soy beans',\n",
              " 'garlic',\n",
              " 'artichoke',\n",
              " 'peach',\n",
              " 'tomato',\n",
              " 'beetroot',\n",
              " 'grapes',\n",
              " 'corn',\n",
              " 'cabbage',\n",
              " 'broccoli',\n",
              " 'eggplant',\n",
              " 'mango',\n",
              " 'rutabaga',\n",
              " 'watermelon',\n",
              " 'blueberries',\n",
              " 'jalepeno',\n",
              " 'paprika',\n",
              " 'cauliflower',\n",
              " 'cucumber',\n",
              " 'shishito pepper',\n",
              " 'donut peach',\n",
              " 'potato',\n",
              " 'sweetcorn',\n",
              " 'plum',\n",
              " 'onion',\n",
              " 'peas',\n",
              " 'pomegranate',\n",
              " 'spinach',\n",
              " 'kiwi',\n",
              " 'lemon',\n",
              " 'sweetpotato',\n",
              " 'bell pepper',\n",
              " 'capsicum',\n",
              " 'lettuce',\n",
              " 'pear',\n",
              " 'apple',\n",
              " 'turnip',\n",
              " 'raddish',\n",
              " 'chilli pepper',\n",
              " 'pummelo']"
            ]
          },
          "metadata": {
            "tags": []
          },
          "execution_count": 24
        }
      ]
    },
    {
      "cell_type": "code",
      "metadata": {
        "id": "i3ISDegEBFa2"
      },
      "source": [
        ""
      ],
      "execution_count": null,
      "outputs": []
    }
  ]
}